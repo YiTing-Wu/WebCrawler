{
 "cells": [
  {
   "cell_type": "code",
   "execution_count": 1,
   "metadata": {},
   "outputs": [],
   "source": [
    "import csv\n",
    "import requests, bs4\n",
    "\n",
    "# 放置爬取的縣市連結\n",
    "URLs_area = []\n",
    "\n",
    "# 放置爬取的資料\n",
    "funeral_data = []\n",
    "\n",
    "# 地區超連結\n",
    "URLs_region = ('http://www.funeralinformation.com.tw/Detail.php?LevelNo=1568',\\\n",
    "              'http://www.funeralinformation.com.tw/Detail.php?LevelNo=1570',\\\n",
    "              'http://www.funeralinformation.com.tw/Detail.php?LevelNo=1572',\\\n",
    "              'http://www.funeralinformation.com.tw/Detail.php?LevelNo=1580')"
   ]
  },
  {
   "cell_type": "code",
   "execution_count": 2,
   "metadata": {},
   "outputs": [],
   "source": [
    "def get_area_URLs():\n",
    "    for URL_region in URLs_region:\n",
    "\n",
    "        url = URL_region\n",
    "        response = requests.get(url)\n",
    "        soup = bs4.BeautifulSoup(response.text, 'lxml')\n",
    "\n",
    "        #print(soup.prettify())\n",
    "\n",
    "        a_tags = soup.find_all(\"a\",class_= \"link1\")\n",
    "#         print(a_tags)\n",
    "        for index, tag in enumerate(a_tags):\n",
    "            #輸出超連結的文字\n",
    "            if index >= 8:\n",
    "                area_url = 'http://www.funeralinformation.com.tw/Detail.php?LevelNo='+ tag.get('href')[-4:]\n",
    "#                 print(area_url)\n",
    "                URLs_area.append({\n",
    "                \"URLs\":area_url\n",
    "                 })\n",
    "                "
   ]
  },
  {
   "cell_type": "code",
   "execution_count": 3,
   "metadata": {},
   "outputs": [],
   "source": [
    "def get_every_table_data():\n",
    "    i=0\n",
    "    for every_URLs in URLs_area:\n",
    "        #讀取連結\n",
    "        area_URL = every_URLs['URLs']    \n",
    "        url = area_URL\n",
    "        response = requests.get(url)\n",
    "        soup = bs4.BeautifulSoup(response.text, 'lxml')\n",
    "\n",
    "        #print(soup.prettify())\n",
    "\n",
    "        tbody_tags = soup.find_all(\"tbody\")\n",
    "        \n",
    "        for index, tbody in enumerate(tbody_tags):\n",
    "            td_tags = tbody.find_all(\"td\")\n",
    "\n",
    "            for index, td in enumerate(td_tags):\n",
    "                if index >= 5:\n",
    "                    #print(index,td.string)\n",
    "                    if i == 0:\n",
    "                        funeral_index=td.string\n",
    "                        i+=1\n",
    "                    elif i == 1:\n",
    "                        funeral_name=td.string\n",
    "                        i+=1\n",
    "                    elif i == 2:\n",
    "                        funeral_num=td.string\n",
    "                        i+=1\n",
    "                    elif i == 3:\n",
    "                        funeral_addr=td.string\n",
    "                        i+=1\n",
    "                    elif i == 4:\n",
    "                        funeral_other=td.string\n",
    "                        funeral_data.append([\n",
    "                        funeral_index,\n",
    "                        funeral_name,\n",
    "                        funeral_num,\n",
    "                        funeral_addr,\n",
    "                        funeral_other\n",
    "                        ])\n",
    "                        i = 0\n",
    "                else:\n",
    "                    continue\n",
    "                "
   ]
  },
  {
   "cell_type": "code",
   "execution_count": 4,
   "metadata": {},
   "outputs": [],
   "source": [
    "get_area_URLs()\n",
    "get_every_table_data()"
   ]
  },
  {
   "cell_type": "code",
   "execution_count": 5,
   "metadata": {},
   "outputs": [],
   "source": [
    "def createcsv():\n",
    "    funeral_data.insert(0,['序號','設施名稱','電話','地址','備註'])\n",
    "    csvfile=open('funeral_data.csv','w', newline='',encoding=\"utf-8\")\n",
    "    obj = csv.writer(csvfile)\n",
    "    for row in funeral_data:\n",
    "        obj.writerow(row)\n",
    "    csvfile.close()                     \n",
    "                "
   ]
  },
  {
   "cell_type": "code",
   "execution_count": 6,
   "metadata": {},
   "outputs": [],
   "source": [
    "createcsv()"
   ]
  }
 ],
 "metadata": {
  "kernelspec": {
   "display_name": "Python 3",
   "language": "python",
   "name": "python3"
  },
  "language_info": {
   "codemirror_mode": {
    "name": "ipython",
    "version": 3
   },
   "file_extension": ".py",
   "mimetype": "text/x-python",
   "name": "python",
   "nbconvert_exporter": "python",
   "pygments_lexer": "ipython3",
   "version": "3.7.7"
  }
 },
 "nbformat": 4,
 "nbformat_minor": 4
}
